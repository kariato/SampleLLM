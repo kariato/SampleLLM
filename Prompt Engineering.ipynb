{
 "cells": [
  {
   "cell_type": "code",
   "execution_count": 1,
   "id": "4239925f-4e4e-475e-9b1a-588849c1f185",
   "metadata": {},
   "outputs": [
    {
     "name": "stdout",
     "output_type": "stream",
     "text": [
      "\n",
      "\n",
      "\u001b[1m> Entering new SimpleSequentialChain chain...\u001b[0m\n",
      "\u001b[36;1m\u001b[1;3m\n",
      "\"Hello, I need help with a serious issue regarding my credit card. I recently discovered that someone has made a fraudulent purchase of an iPhone using my credit card without my knowledge or permission. I am extremely worried and upset that this has happened to me.\"\u001b[0m\n",
      "\u001b[33;1m\u001b[1;3mDear Customer, \n",
      "\n",
      "Thank you for bringing this issue to our attention. We understand how concerning it is to discover unauthorized transactions on your credit card and we apologize for any inconvenience this may have caused you. \n",
      "\n",
      "We take all reports of fraudulent activity very seriously and we want to assure you that we are here to help. To protect your account, we will immediately freeze your credit card and investigate the matter thoroughly. \n",
      "\n",
      "In the meantime, please provide us with the details of the transaction so we can begin our investigation. We will do everything in our power to resolve this issue as soon as possible and ensure that you are not responsible for any fraudulent charges. \n",
      "\n",
      "We also recommend that you monitor your bank account closely and report any suspicious activity to us immediately. If you have any further questions or concerns, please do not hesitate to contact us. We value your trust in our bank and we want to do everything we can to restore it. \n",
      "\n",
      "Thank you for choosing our bank.\n",
      "\n",
      "Sincerely, \n",
      "[Your Name]\u001b[0m\n",
      "\n",
      "\u001b[1m> Finished chain.\u001b[0m\n"
     ]
    }
   ],
   "source": [
    "from langchain import PromptTemplate\n",
    "from langchain.llms import Ollama\n",
    "from langchain.chains import LLMChain, LLMMathChain, TransformChain, SequentialChain, SimpleSequentialChain\n",
    "\n",
    "# This is an LLMChain to write a synopsis given a bank problem.\n",
    "customer_llm =  Ollama(temperature=.9,  model=\"mistral\")\n",
    "customer_template = \"\"\"\n",
    "You are a bank customer. You need help for a problem, write a synopsis for that problem.\n",
    "Your style is upset, worried. Use concise language, to the point, and are brief.\n",
    "\n",
    "Problem: {problem}\n",
    "\n",
    "Bank Customer: This is a synopsis for the above problem:\n",
    "\"\"\"\n",
    "customer_prompt_template = PromptTemplate(input_variables=[\"problem\"], template=customer_template)\n",
    "synopsis_chain = LLMChain(llm=customer_llm, prompt=customer_prompt_template)\n",
    "\n",
    "# This is an LLMChain to write a review of a play given a synopsis.\n",
    "csr_llm = Ollama(temperature=.5,  model=\"mistral\")\n",
    "\n",
    "response_template = \"\"\"\n",
    "You are a customer service representive for a large bank.\n",
    "\n",
    "Given the synopsis of customer problem, it is your job to write a response to the customer problem.\n",
    "You're a helpful professional who gives detailed response designed to solve the problem.\n",
    "\n",
    "Problem Synopsis: {synopsis}\n",
    "\n",
    "Customer service response to the customer problemablove:\"\"\"\n",
    "\n",
    "csr_prompt_template = PromptTemplate(input_variables=[\"synopsis\"], template=response_template)\n",
    "\n",
    "csr_chain = LLMChain(llm=csr_llm, prompt=csr_prompt_template)\n",
    "\n",
    "# This is the overall chain where we run these two chains in sequence.\n",
    "\n",
    "overall_chain = SimpleSequentialChain(chains= [synopsis_chain, csr_chain],\n",
    "                                      verbose=True)\n",
    "\n",
    "\n",
    "problem_title = \"Someone purchased an iPhone on my credit card but it was fraud\"\n",
    "\n",
    "interaction = overall_chain.run(problem_title)\n"
   ]
  },
  {
   "cell_type": "code",
   "execution_count": null,
   "id": "46f8880f-a548-4ef7-9891-7e5dd91072f7",
   "metadata": {},
   "outputs": [],
   "source": []
  }
 ],
 "metadata": {
  "kernelspec": {
   "display_name": "localgpt",
   "language": "python",
   "name": "localgpt"
  },
  "language_info": {
   "codemirror_mode": {
    "name": "ipython",
    "version": 3
   },
   "file_extension": ".py",
   "mimetype": "text/x-python",
   "name": "python",
   "nbconvert_exporter": "python",
   "pygments_lexer": "ipython3",
   "version": "3.9.13"
  }
 },
 "nbformat": 4,
 "nbformat_minor": 5
}
