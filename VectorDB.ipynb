{
 "cells": [
  {
   "cell_type": "code",
   "execution_count": 5,
   "id": "ecb2fa0e-ea85-4fe4-98f9-5627b1068603",
   "metadata": {},
   "outputs": [],
   "source": [
    "from langchain.embeddings.sentence_transformer import SentenceTransformerEmbeddings\n",
    "from langchain.text_splitter import CharacterTextSplitter,RecursiveCharacterTextSplitter\n",
    "from langchain.vectorstores import Chroma\n",
    "from langchain.document_loaders import WebBaseLoader"
   ]
  },
  {
   "cell_type": "code",
   "execution_count": 2,
   "id": "0164da76-2e5c-418e-bbb7-e23e26fbcaa8",
   "metadata": {},
   "outputs": [],
   "source": [
    "loader = WebBaseLoader(\"https://www.govinfo.gov/content/pkg/CFR-2023-title12-vol2/html/CFR-2023-title12-vol2.htm\")\n",
    "documents = loader.load()"
   ]
  },
  {
   "cell_type": "code",
   "execution_count": 8,
   "id": "5990e1ee-276b-4d8b-961b-ad51037e3f8d",
   "metadata": {},
   "outputs": [],
   "source": [
    "text_splitter = RecursiveCharacterTextSplitter(chunk_size=3000, chunk_overlap=100)\n",
    "docs = text_splitter.split_documents(documents)\n",
    "\n",
    "# create the open-source embedding function\n",
    "embedding_function = SentenceTransformerEmbeddings(model_name=\"all-MiniLM-L6-v2\")\n",
    "\n",
    "# load it into Chroma\n",
    "db = Chroma.from_documents(docs, embedding_function,persist_directory=\"./chroma_db\")"
   ]
  },
  {
   "cell_type": "code",
   "execution_count": 9,
   "id": "e3171db2-df1b-4c43-8fdb-d470f988727c",
   "metadata": {},
   "outputs": [
    {
     "name": "stdout",
     "output_type": "stream",
     "text": [
      "$10. The institution may not assess an overdraft fee for the debit card \n",
      "transaction. On March 3, the institution pays a check transaction of \n",
      "$100 and charges an overdraft fee of $20. At the end of that day, the \n",
      "consumer has\n"
     ]
    }
   ],
   "source": [
    "query = \"debit card transaction overdraft fee\"\n",
    "docs = db.similarity_search(query)\n",
    "\n",
    "# print results\n",
    "print(docs[0].page_content)"
   ]
  },
  {
   "cell_type": "code",
   "execution_count": 10,
   "id": "ecf08fe5-c4fd-4c1e-a9b8-04c05f07fab8",
   "metadata": {},
   "outputs": [
    {
     "name": "stdout",
     "output_type": "stream",
     "text": [
      "an account balance of negative $130. The consumer does not make any \n",
      "deposits to the account, and no other transactions occur between March 4 \n",
      "and March 8. Because the consumer's negative balance is attributable in \n",
      "part to the check, the institution may assess a $20 sustained overdraft \n",
      "fee. However, because the check was paid on March 3, the institution \n",
      "must use March 3 as the start date for determining the date on which the \n",
      "sustained overdraft fee may be assessed. Thus, the institution may \n",
      "charge a $20 sustained overdraft fee on March 8.\n",
      "    iii. Alternative approach. For a consumer who does not opt into the \n",
      "institution's overdraft service for ATM and one-time debit card \n",
      "transactions, an institution may also comply with the fee prohibition in \n",
      "Sec.  205.17(b)(1) by not assessing daily or sustained overdraft, \n",
      "negative balance, or similar fees or charges unless a consumer's \n",
      "negative balance is attributable solely to check, ACH or other types of\n"
     ]
    }
   ],
   "source": [
    "print(docs[1].page_content)"
   ]
  },
  {
   "cell_type": "code",
   "execution_count": null,
   "id": "f1e660c5-d14b-438f-9ff1-d6f41b39809a",
   "metadata": {},
   "outputs": [],
   "source": []
  }
 ],
 "metadata": {
  "kernelspec": {
   "display_name": "localgpt",
   "language": "python",
   "name": "localgpt"
  },
  "language_info": {
   "codemirror_mode": {
    "name": "ipython",
    "version": 3
   },
   "file_extension": ".py",
   "mimetype": "text/x-python",
   "name": "python",
   "nbconvert_exporter": "python",
   "pygments_lexer": "ipython3",
   "version": "3.9.13"
  }
 },
 "nbformat": 4,
 "nbformat_minor": 5
}
