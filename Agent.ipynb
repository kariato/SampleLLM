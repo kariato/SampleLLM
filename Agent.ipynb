{
 "cells": [
  {
   "cell_type": "code",
   "execution_count": 4,
   "id": "6fcea8ef-11c4-495f-96e3-007ef4b51017",
   "metadata": {},
   "outputs": [],
   "source": [
    "#!pip install duckduckgo-search\n",
    "from langchain.tools import DuckDuckGoSearchRun\n",
    "search = DuckDuckGoSearchRun()\n",
    "output=search.run(\"What is memgpt?\")"
   ]
  },
  {
   "cell_type": "code",
   "execution_count": 5,
   "id": "b8ecfa58-51d5-48d7-ae86-440df04d386f",
   "metadata": {},
   "outputs": [
    {
     "data": {
      "text/plain": [
       "'MemGPT abstracts away the complexity of managing the context window size with the external memory using a \"Virtual Context\", technique that is inspired by the way traditional operating systems use hierarchical memory systems to make it seem like they have vast memory resources by moving data between fast and slow memory. MemGPT allows LLMs to perform tasks that require long-term memory, such as document analysis and multi-session chat, by providing them with memory management functions and control flow mechanisms. MemGPT is an innovative method that expands the horizons and applications of LLMs. MemGPT, a product of OpenAI, is a cutting-edge language model that stands out for its memory management capabilities. It operates within a memory hierarchy, managing both working context and external context, and uses a function calling paradigm to interact with its environment. MemGPT is a language model system designed to address the limitations of fixed-length context windows in language models (LLMs) like GPT-3.5 and GPT-4. It achieves this by introducing a novel architecture and principles that enable it to manage and utilize a virtually unlimited context. Here\\'s an overview of MemGPT\\'s technical architecture and ... MemGPT: Towards LLMs as Operating Systems. Large language models (LLMs) have revolutionized AI, but are constrained by limited context windows, hindering their utility in tasks like extended conversations and document analysis. To enable using context beyond limited context windows, we propose virtual context management, a technique drawing ...'"
      ]
     },
     "execution_count": 5,
     "metadata": {},
     "output_type": "execute_result"
    }
   ],
   "source": [
    "output"
   ]
  },
  {
   "cell_type": "code",
   "execution_count": 6,
   "id": "6bae0cd3-f999-4b86-9355-05375a8c26de",
   "metadata": {
    "tags": []
   },
   "outputs": [
    {
     "name": "stdout",
     "output_type": "stream",
     "text": [
      "\n",
      "\n",
      "\u001b[1m> Entering new SimpleSequentialChain chain...\u001b[0m\n",
      "\u001b[36;1m\u001b[1;3m\n",
      "MemGPT simplifies language models' (LLMs) memory management through \"Virtual Context\" which allows LLMs to perform long-term memory tasks by providing them with memory management functions and control flow mechanisms. MemGPT, developed by OpenAI, is an advanced language model known for its memory management capabilities and operates in a memory hierarchy, managing both working context and external context. The system uses a function calling paradigm and addresses LLMs' limitations of fixed-length context windows, allowing for virtually unlimited context utilization through novel architecture and principles. MemGPT enables using context beyond limited context windows by proposing virtual context management, a technique inspired by hierarchical memory systems used in traditional operating systems.\u001b[0m\n",
      "\u001b[33;1m\u001b[1;3mMemGPT is a language model developed by OpenAI that simplifies long-term memory tasks in LLMs through Virtual Context. It uses a function calling paradigm and manages both working and external context to enable virtually unlimited context utilization, addressing LLMs' limitations of fixed-length context windows. MemGPT's architecture is inspired by hierarchical memory systems used in traditional operating systems, and it enables using context beyond limited context windows.\u001b[0m\n",
      "\n",
      "\u001b[1m> Finished chain.\u001b[0m\n",
      "MemGPT is a language model developed by OpenAI that simplifies long-term memory tasks in LLMs through Virtual Context. It uses a function calling paradigm and manages both working and external context to enable virtually unlimited context utilization, addressing LLMs' limitations of fixed-length context windows. MemGPT's architecture is inspired by hierarchical memory systems used in traditional operating systems, and it enables using context beyond limited context windows.\n"
     ]
    }
   ],
   "source": [
    "from langchain.llms import Ollama\n",
    "\n",
    "#from dotenv import load_dotenv, find_dotenv\n",
    "import os\n",
    "from langchain.chains import SimpleSequentialChain\n",
    "from langchain.prompts.prompt import PromptTemplate\n",
    "from langchain.chains.llm import LLMChain\n",
    "\n",
    "llm = Ollama(  model=\"mistral\")\n",
    "\n",
    "tempate1 = \"\"\"In concise language simplify the following text: \n",
    "\n",
    "{duckresult} \n",
    "\"\"\"\n",
    "prompt_template1 = PromptTemplate(input_variables=['duckresult'], template=tempate1)\n",
    "chain1 = LLMChain(llm=llm, prompt=prompt_template1)\n",
    "\n",
    "template2 = \"\"\"In concise language simplify the following text: \n",
    "\n",
    "{sumresult} \n",
    "\"\"\"\n",
    "prompt_template2 = PromptTemplate(input_variables=['sumresult'], template=template2)\n",
    "\n",
    "chain2 = LLMChain(llm=llm, prompt=prompt_template2)\n",
    "\n",
    "\n",
    "simplechain = SimpleSequentialChain(chains=[chain1, chain2], verbose=True)\n",
    "\n",
    "output=simplechain.run(output)\n",
    "\n",
    "print(output)"
   ]
  },
  {
   "cell_type": "code",
   "execution_count": null,
   "id": "0a558929-296b-478d-af16-d74cfa6f6deb",
   "metadata": {},
   "outputs": [],
   "source": []
  }
 ],
 "metadata": {
  "kernelspec": {
   "display_name": "localgpt",
   "language": "python",
   "name": "localgpt"
  },
  "language_info": {
   "codemirror_mode": {
    "name": "ipython",
    "version": 3
   },
   "file_extension": ".py",
   "mimetype": "text/x-python",
   "name": "python",
   "nbconvert_exporter": "python",
   "pygments_lexer": "ipython3",
   "version": "3.9.13"
  }
 },
 "nbformat": 4,
 "nbformat_minor": 5
}
