{
 "cells": [
  {
   "cell_type": "code",
   "execution_count": 8,
   "id": "0bf667ec-c548-40fb-a5b0-9ab57de6ddf9",
   "metadata": {},
   "outputs": [],
   "source": [
    "from langchain import hub\n",
    "from langchain.llms import Ollama\n",
    "from langchain.vectorstores import Chroma\n",
    "from langchain.embeddings.sentence_transformer import SentenceTransformerEmbeddings\n",
    "rag_prompt = hub.pull(\"rlm/rag-prompt\")"
   ]
  },
  {
   "cell_type": "code",
   "execution_count": 12,
   "id": "83929b3f-b8ee-4572-ab25-b3c5b7879145",
   "metadata": {},
   "outputs": [
    {
     "name": "stdout",
     "output_type": "stream",
     "text": [
      "$10. The institution may not assess an overdraft fee for the debit card \n",
      "transaction. On March 3, the institution pays a check transaction of \n",
      "$100 and charges an overdraft fee of $20. At the end of that day, the \n",
      "consumer has\n"
     ]
    }
   ],
   "source": [
    "# create the open-source embedding function\n",
    "embedding_function = SentenceTransformerEmbeddings(model_name=\"all-MiniLM-L6-v2\")\n",
    "# load from disk\n",
    "db3 = Chroma(persist_directory=\"./chroma_db\", embedding_function=embedding_function)\n",
    "retriever = db3.as_retriever()\n",
    "query = \"debit card transaction overdraft fee\"\n",
    "docs = db3.similarity_search(query)\n",
    "print(docs[0].page_content)"
   ]
  },
  {
   "cell_type": "code",
   "execution_count": 13,
   "id": "87b40c57-1204-42a4-bc79-94f029a6d87c",
   "metadata": {},
   "outputs": [],
   "source": [
    "llm =  Ollama(temperature=.0,  model=\"mistral\")"
   ]
  },
  {
   "cell_type": "code",
   "execution_count": 14,
   "id": "ee18995b-b760-490b-82ec-db30a7e8ba16",
   "metadata": {},
   "outputs": [
    {
     "data": {
      "text/plain": [
       "\"Debit card transaction overdraft fees are fees charged by financial institutions for paying an ATM or one-time debit card transaction into overdraft. The institution may not assess an overdraft fee for the debit card transaction if the consumer has not opted into the payment of such transactions, and the transaction is paid into overdraft because the amount of the transaction at settlement exceeded the amount authorized or was not submitted for authorization. If the consumer's account remains overdrawn for five consecutive days, the institution may charge a sustained overdraft fee of $20 on the fifth day.\""
      ]
     },
     "execution_count": 14,
     "metadata": {},
     "output_type": "execute_result"
    }
   ],
   "source": [
    "from langchain.schema.runnable import RunnablePassthrough\n",
    "rag_chain = {\"context\": retriever, \"question\": RunnablePassthrough()} | rag_prompt | llm\n",
    "rag_chain.invoke(\"What are debit card transaction overdraft fees?\")"
   ]
  },
  {
   "cell_type": "code",
   "execution_count": null,
   "id": "54b2a57f-de0a-45e8-8488-66dfe2280342",
   "metadata": {},
   "outputs": [],
   "source": []
  }
 ],
 "metadata": {
  "kernelspec": {
   "display_name": "localgpt",
   "language": "python",
   "name": "localgpt"
  },
  "language_info": {
   "codemirror_mode": {
    "name": "ipython",
    "version": 3
   },
   "file_extension": ".py",
   "mimetype": "text/x-python",
   "name": "python",
   "nbconvert_exporter": "python",
   "pygments_lexer": "ipython3",
   "version": "3.9.13"
  }
 },
 "nbformat": 4,
 "nbformat_minor": 5
}
