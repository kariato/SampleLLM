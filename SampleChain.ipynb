{
 "cells": [
  {
   "cell_type": "markdown",
   "id": "489e8b49-69e8-4a72-8f63-01426f88c39e",
   "metadata": {
    "tags": []
   },
   "source": [
    "# https://medium.com/@kbdhunga/exploring-langchain-chains-agents-a-quick-overview-9d0a8c4d7ba0"
   ]
  },
  {
   "cell_type": "code",
   "execution_count": 7,
   "id": "e011237e-26ff-421b-908c-e3448774e2fd",
   "metadata": {},
   "outputs": [
    {
     "name": "stdout",
     "output_type": "stream",
     "text": [
      "\n",
      "\n",
      "\u001b[1m> Entering new SimpleSequentialChain chain...\u001b[0m\n",
      "\u001b[36;1m\u001b[1;3mBarack Obama was born on August 4, 1961.\u001b[0m\n",
      "\u001b[33;1m\u001b[1;3mAugust 4, 1961 - Barack Obama was born in Honolulu, Hawaii. He would go on to become the 44th President of the United States, serving from 2009-2017.\u001b[0m\n",
      "\n",
      "\u001b[1m> Finished chain.\u001b[0m\n",
      "August 4, 1961 - Barack Obama was born in Honolulu, Hawaii. He would go on to become the 44th President of the United States, serving from 2009-2017.\n"
     ]
    }
   ],
   "source": [
    "from langchain.llms import Ollama\n",
    "\n",
    "#from dotenv import load_dotenv, find_dotenv\n",
    "import os\n",
    "from langchain.chains import SimpleSequentialChain\n",
    "from langchain.prompts.prompt import PromptTemplate\n",
    "from langchain.chains.llm import LLMChain\n",
    "\n",
    "llm = Ollama(  model=\"mistral\")\n",
    "\n",
    "tempate1 = \"\"\"When did {person_name} born?\n",
    "Date: this is the data of birth:\"\"\"\n",
    "prompt_template1 = PromptTemplate(input_variables=['person_name'], template=tempate1)\n",
    "chain1 = LLMChain(llm=llm, prompt=prompt_template1)\n",
    "\n",
    "template2 = \"\"\"You are a historian. Provide us a major events happened in a given date.\n",
    "{date}\n",
    "\"\"\"\n",
    "prompt_template2 = PromptTemplate(input_variables=['date'], template=template2)\n",
    "\n",
    "chain2 = LLMChain(llm=llm, prompt=prompt_template2)\n",
    "\n",
    "\n",
    "simplechain = SimpleSequentialChain(chains=[chain1, chain2], verbose=True)\n",
    "\n",
    "output=simplechain.run('Barak Obama')\n",
    "\n",
    "print(output)"
   ]
  },
  {
   "cell_type": "code",
   "execution_count": null,
   "id": "1425892f-b169-4db5-bdcf-4989e814552b",
   "metadata": {},
   "outputs": [],
   "source": []
  }
 ],
 "metadata": {
  "kernelspec": {
   "display_name": "localgpt",
   "language": "python",
   "name": "localgpt"
  },
  "language_info": {
   "codemirror_mode": {
    "name": "ipython",
    "version": 3
   },
   "file_extension": ".py",
   "mimetype": "text/x-python",
   "name": "python",
   "nbconvert_exporter": "python",
   "pygments_lexer": "ipython3",
   "version": "3.9.13"
  }
 },
 "nbformat": 4,
 "nbformat_minor": 5
}
